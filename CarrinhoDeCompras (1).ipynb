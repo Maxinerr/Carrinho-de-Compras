
  {
   "cell_type": "code",
   "execution_count": 119,
   "metadata": {},
   "outputs": [],
   "source": [
    "carrinho = [{\"nome\": \"Mochila Totoro\", \"quantidade\" : 2, \"preco_unitario\": 105.00},{\"nome\": \"Mini impressa térmica fofinha\", \"quantidade\": 3, \"preco_unitario\": 99.88},{\"nome\": \"Fone de ouvido Pokébola\", \"quantidade\": 5, \"preco_unitario\": 112.80}]"
   ]
  },
  {
   "cell_type": "code",
   "execution_count": 120,
   "metadata": {},
   "outputs": [
    {
     "data": {
      "text/plain": [
       "{'nome': 'Mochila Totoro', 'quantidade': 2, 'preco_unitario': 105.0}"
      ]
     },
     "execution_count": 120,
     "metadata": {},
     "output_type": "execute_result"
    }
   ],
   "source": [
    "carrinho.pop(0)"
   ]
  },
  {
   "cell_type": "code",
   "execution_count": 121,
   "metadata": {},
   "outputs": [
    {
     "name": "stdout",
     "output_type": "stream",
     "text": [
      "Carrinho Atualizado: [{'nome': 'Mini impressa térmica fofinha', 'quantidade': 3, 'preco_unitario': 99.88}, {'nome': 'Fone de ouvido Pokébola', 'quantidade': 5, 'preco_unitario': 112.8}]\n"
     ]
    }
   ],
   "source": [
    "print(f\"Carrinho Atualizado: {carrinho}\")"
   ]
  },
  {
   "cell_type": "code",
   "execution_count": 122,
   "metadata": {},
   "outputs": [
    {
     "name": "stdout",
     "output_type": "stream",
     "text": [
      "item removido por engano:{'nome': 'Mochila Totoro', 'quantidade': 2, 'preco_unitario': 105.0}\n"
     ]
    }
   ],
   "source": [
    "print(f\"item removido por engano:{item_removido}\")"
   ]
  },
  {
   "cell_type": "code",
   "execution_count": 123,
   "metadata": {},
   "outputs": [],
   "source": [
    "carrinho = [{'nome': 'Mini impressa térmica fofinha', 'quantidade': 3, 'preco_unitario': 99.88}, {'nome': 'Fone de ouvido Pokébola', 'quantidade': 5, 'preco_unitario': 112.8}]"
   ]
  },
  {
   "cell_type": "code",
   "execution_count": 124,
   "metadata": {},
   "outputs": [],
   "source": [
    "novo_item = {\"nome\": \"Morango\",\"quantidade\": 7, \"preco_unitario\": 6.45}"
   ]
  },
  {
   "cell_type": "code",
   "execution_count": 125,
   "metadata": {},
   "outputs": [],
   "source": [
    "carrinho.append(novo_item)"
   ]
  },
  {
   "cell_type": "code",
   "execution_count": 126,
   "metadata": {},
   "outputs": [
    {
     "name": "stdout",
     "output_type": "stream",
     "text": [
      "Carrinho atualizado: [{'nome': 'Mini impressa térmica fofinha', 'quantidade': 3, 'preco_unitario': 99.88}, {'nome': 'Fone de ouvido Pokébola', 'quantidade': 5, 'preco_unitario': 112.8}, {'nome': 'Morango', 'quantidade': 7, 'preco_unitario': 6.45}]\n"
     ]
    }
   ],
   "source": [
    "print(f\"Carrinho atualizado: {carrinho}\")"
   ]
  },
  {
   "cell_type": "code",
   "execution_count": 128,
   "metadata": {},
   "outputs": [],
   "source": [
    "quantidade_1 = carrinho[0] [\"quantidade\"]\n",
    "preco_1 = carrinho [0] [\"preco_unitario\"]\n",
    "preco_item_1 = round(quantidade_1 * preco_1, 2)\n",
    "\n",
    "quantidade_2 = carrinho [1] [\"quantidade\"]\n",
    "preco_2 = carrinho [1] [\"preco_unitario\"]\n",
    "preco_item_2 = round(quantidade_2 * preco_1, 2)\n",
    "\n",
    "quantidade_3 = carrinho [2] [\"quantidade\"]\n",
    "preco_3 = carrinho [2] [\"preco_unitario\"]\n",
    "preco_item_3 = round(quantidade_3 * preco_3, 2)"
   ]
  },
  {
   "cell_type": "code",
   "execution_count": 129,
   "metadata": {},
   "outputs": [],
   "source": [
    "total = round(preco_item_1 + preco_item_2 + preco_item_3 , 2)"
   ]
  },
  {
   "cell_type": "code",
   "execution_count": 130,
   "metadata": {},
   "outputs": [
    {
     "name": "stdout",
     "output_type": "stream",
     "text": [
      "Total: R$ 844.19\n"
     ]
    }
   ],
   "source": [
    "print(f\"Total: R$ {total}\")"
   ]
  }
 ],
 "metadata": {
  "kernelspec": {
   "display_name": "base",
   "language": "python",
   "name": "python3"
  },
  "language_info": {
   "codemirror_mode": {
    "name": "ipython",
    "version": 3
   },
   "file_extension": ".py",
   "mimetype": "text/x-python",
   "name": "python",
   "nbconvert_exporter": "python",
   "pygments_lexer": "ipython3",
   "version": "3.12.7"
  }
 },
 "nbformat": 4,
 "nbformat_minor": 2
}
